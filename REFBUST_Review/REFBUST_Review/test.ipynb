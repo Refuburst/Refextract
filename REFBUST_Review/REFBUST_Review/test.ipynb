{
 "cells": [
  {
   "cell_type": "code",
   "execution_count": 49,
   "id": "e9aa454b-f70d-4a52-bad7-dae5ac07f2c6",
   "metadata": {},
   "outputs": [],
   "source": []
  },
  {
   "cell_type": "code",
   "execution_count": 17,
   "id": "5903f626-ac92-4bf6-aee0-739c8947d37f",
   "metadata": {},
   "outputs": [],
   "source": [
    "   def extract_text_from_pdf(pdf_path):\n",
    "    with pdfplumber.open(pdf_path) as pdf:\n",
    "        all_text = \"\"\n",
    "        for page in pdf.pages:\n",
    "            text = page.extract_text()\n",
    "            all_text += text + '\\n\\n'\n",
    "    return all_text\n"
   ]
  },
  {
   "cell_type": "code",
   "execution_count": 18,
   "id": "18cc576e-5f12-4872-ad86-be4038e90f4b",
   "metadata": {},
   "outputs": [],
   "source": [
    "def process_cite_functions(pdf_path):\n",
    "#    italics_check=check_italics_in_et_al_citations(pdf_path)\n",
    "    citation_text= extract_text_from_pdf(pdf_path)\n",
    "#    matches = extract_pattern(citation_text)\n",
    "    matches = citations.find_all_citations (citation_text)\n",
    "    df = pd.DataFrame(matches, columns=['Citations'])\n",
    "    df.drop_duplicates(subset='Citations', inplace=True)\n",
    "    \n",
    "    \n",
    "    def extract_author_and_year(citation):\n",
    "        # Define a regular expression pattern to match a year format '2000' or '(2000)'\n",
    "        year_pattern = r'\\b(?:\\(\\d{4}\\)|\\d{4})\\b'\n",
    "        year_match = re.search(year_pattern, citation)\n",
    "        \n",
    "        if year_match:\n",
    "            year = year_match.group()\n",
    "            author = citation.replace(year, '').strip()  # Extract author by removing year\n",
    "            author = re.sub(r'\\(\\)', '', author)  # Remove remaining parentheses\n",
    "        else:\n",
    "            year = None\n",
    "            author = citation.strip()\n",
    "\n",
    "        return {'Author': author, 'Year': year}\n",
    "\n",
    "    df[['Author', 'Year']] = df['Citations'].apply(extract_author_and_year).apply(pd.Series)\n",
    "    dfc = df.reset_index(drop=True)\n",
    "    cita_year = dfc.dropna()\n",
    "#############In Sentence POSITION OF CITATION ###############################\n",
    "    def cite_sentence_position(citation):\n",
    "        pattern =global_pattern\n",
    "        citations = re.findall(pattern, citation_text)\n",
    "        #Creating a list to store positions\n",
    "        positions = []\n",
    "\n",
    "        for citation in citations:\n",
    "            #Checking citation position in sentence\n",
    "            position = None\n",
    "            if citation_text.startswith(citation):\n",
    "                position = \"At Start Please check!!\"\n",
    "            elif citation_text.endswith(citation):\n",
    "                position = \"✔\"\n",
    "            else:\n",
    "                position = \"✔\"\n",
    "            positions.append((citation, position))\n",
    "        return {'In Sentence Use': position}\n",
    "    cita_year[['In Sentence Use']] = cita_year['Citations'].apply(cite_sentence_position).apply(pd.Series)\n",
    "    specific_pattern = r\"([A-Z][a-z]+) et al\\.,? \\(?(\\d{4})\\)?\"\n",
    "    generic_pattern = r\"[A-Z][a-z]+ (?:et\\,?\\s?al\\.,?|et al\\.,?|et\\,? al\\.,?) \\d{4}\"\n",
    "\n",
    "    def check_et_al_syntax(citation):\n",
    "        if re.search(specific_pattern, citation):\n",
    "            return '✔'\n",
    "        elif re.search(generic_pattern, citation):\n",
    "            return '❌'\n",
    "        else:\n",
    "            return 'n/a'\n",
    "\n",
    "    # Applying the function to create the 'et_al syntax' column\n",
    "    cita_year['et_al syntax'] = cita_year['Citations'].apply(check_et_al_syntax).apply(pd.Series)\n",
    "\n",
    "    citedf=HTML(cita_year.to_html(classes='table table-stripped'))\n",
    "    cita_year.to_csv('citation_data.csv', index=False)\n",
    "    return { 'Citations in PDF': df}"
   ]
  },
  {
   "cell_type": "code",
   "execution_count": 19,
   "id": "0c75e95f-ca75-46e0-9ffa-079922439ffb",
   "metadata": {},
   "outputs": [],
   "source": [
    "import citations\n",
    "import fitz  # PyMuPDF\n",
    "import pdfplumber\n",
    "import re\n",
    "import pandas as pd\n",
    "from IPython.display import HTML, display\n"
   ]
  },
  {
   "cell_type": "code",
   "execution_count": 20,
   "id": "da7a0c16-6608-40a5-abfc-6774b50a1445",
   "metadata": {},
   "outputs": [],
   "source": [
    "global_pattern = r\"\\b(?!(?:Although|In|Furthermore|Additionally|Also)\\b)(?!(?:Jan(?:uary)?|Feb(?:ruary)?|Mar(?:ch)?|Apr(?:il)?|May|Jun(?:e)?|Jul(?:y)?|Aug(?:ust)?|Sep(?:tember)?|Oct(?:ober)?|Nov(?:ember)?|Dec(?:ember)?)\\b)(?:[A-Z][A-Za-z'`-]+)(?:,? (?:(?:and |& )?(?:[Z-Z][A-Za-z'`-]+)|(?:et al.?)))*(?:,? *(?:19|20)[0-9][0-9](?:, p\\.? [0-9]+)?| *\\((?:19|20)[0-9][0-9](?:, p\\.? [0-9]+)?\\))\"\n"
   ]
  },
  {
   "cell_type": "code",
   "execution_count": 21,
   "id": "c95e4e1d-29fa-4a05-bd80-5c8dbba91bcf",
   "metadata": {},
   "outputs": [
    {
     "data": {
      "text/plain": [
       "{'Citations in PDF':                     Citations                 Author  Year\n",
       " 0              (Dubois, 2018)             (Dubois, )  2018\n",
       " 1            (Phillips, 2018)           (Phillips, )  2018\n",
       " 2              (Parker, 2021)             (Parker, )  2021\n",
       " 3            (Anderson, 2019)           (Anderson, )  2019\n",
       " 4               (Green, 2018)              (Green, )  2018\n",
       " 5    (Williams & Evans, 2019)   (Williams & Evans, )  2019\n",
       " 6   (Garcia & Martinez, 2020)  (Garcia & Martinez, )  2020\n",
       " 7         (Lee & Smith, 2017)        (Lee & Smith, )  2017\n",
       " 8       (White & Davis, 2019)      (White & Davis, )  2019\n",
       " 9      (Morgan & Adams, 2020)     (Morgan & Adams, )  2020\n",
       " 11    (Johnson & Brown, 2019)    (Johnson & Brown, )  2019\n",
       " 12    (Nelson & Smith,\\n2017)    (Nelson & Smith,\\n)  2017\n",
       " 14  (Robinson & Nelson, 2018)  (Robinson & Nelson, )  2018\n",
       " 15  (Wright & Martinez, 2020)  (Wright & Martinez, )  2020\n",
       " 16   (Robinson & Adams, 2019)   (Robinson & Adams, )  2019\n",
       " 17       (Hall & Baker, 2018)       (Hall & Baker, )  2018\n",
       " 18       (Lee & Martin, 2021)       (Lee & Martin, )  2021\n",
       " 19     (Gray & Coleman, 2017)     (Gray & Coleman, )  2017\n",
       " 20  (Turner & Martinez, 2019)  (Turner & Martinez, )  2019\n",
       " 21       (Brown et al., 2021)       (Brown et al., )  2021\n",
       " 23            Maddison (2021)              Maddison   2021\n",
       " 24               Anand (2021)                 Anand   2021\n",
       " 25             Roberts (2021)               Roberts   2021\n",
       " 26               Avery (2021)                 Avery   2021\n",
       " 27              Carter (2020)                Carter   2020\n",
       " 28               Henry (2019)                 Henry   2019\n",
       " 29               Dylan (2017)                 Dylan   2017\n",
       " 30              Andrew (2017)                Andrew   2017\n",
       " 31              Harris (2019)                Harris   2019\n",
       " 32                Paul (2018)                  Paul   2018\n",
       " 33              Brooks (2017)                Brooks   2017}"
      ]
     },
     "execution_count": 21,
     "metadata": {},
     "output_type": "execute_result"
    }
   ],
   "source": [
    " process_cite_functions(\"C:\\\\Users\\\\Glen\\\\OneDrive - Teesside University\\\\CIS4006 Advanced Practice\\\\External Students\\\\test.pdf\")"
   ]
  },
  {
   "cell_type": "code",
   "execution_count": 22,
   "id": "4e189cdc-b0de-4411-a679-bba3baf20f0d",
   "metadata": {},
   "outputs": [
    {
     "ename": "FileNotFoundError",
     "evalue": "[Errno 2] No such file or directory: 'C:\\\\Users\\\\u0037034\\\\OneDrive - Teesside University\\\\CIS4006 Advanced Practice\\\\External Students\\\\test.pdf'",
     "output_type": "error",
     "traceback": [
      "\u001b[1;31m---------------------------------------------------------------------------\u001b[0m",
      "\u001b[1;31mFileNotFoundError\u001b[0m                         Traceback (most recent call last)",
      "Cell \u001b[1;32mIn[22], line 1\u001b[0m\n\u001b[1;32m----> 1\u001b[0m \u001b[43mprocess_cite_functions\u001b[49m\u001b[43m(\u001b[49m\u001b[38;5;124;43m\"\u001b[39;49m\u001b[38;5;124;43mC:\u001b[39;49m\u001b[38;5;130;43;01m\\\\\u001b[39;49;00m\u001b[38;5;124;43mUsers\u001b[39;49m\u001b[38;5;130;43;01m\\\\\u001b[39;49;00m\u001b[38;5;124;43mu0037034\u001b[39;49m\u001b[38;5;130;43;01m\\\\\u001b[39;49;00m\u001b[38;5;124;43mOneDrive - Teesside University\u001b[39;49m\u001b[38;5;130;43;01m\\\\\u001b[39;49;00m\u001b[38;5;124;43mCIS4006 Advanced Practice\u001b[39;49m\u001b[38;5;130;43;01m\\\\\u001b[39;49;00m\u001b[38;5;124;43mExternal Students\u001b[39;49m\u001b[38;5;130;43;01m\\\\\u001b[39;49;00m\u001b[38;5;124;43mtest.pdf\u001b[39;49m\u001b[38;5;124;43m\"\u001b[39;49m\u001b[43m)\u001b[49m\n",
      "Cell \u001b[1;32mIn[18], line 3\u001b[0m, in \u001b[0;36mprocess_cite_functions\u001b[1;34m(pdf_path)\u001b[0m\n\u001b[0;32m      1\u001b[0m \u001b[38;5;28;01mdef\u001b[39;00m \u001b[38;5;21mprocess_cite_functions\u001b[39m(pdf_path):\n\u001b[0;32m      2\u001b[0m \u001b[38;5;66;03m#    italics_check=check_italics_in_et_al_citations(pdf_path)\u001b[39;00m\n\u001b[1;32m----> 3\u001b[0m     citation_text\u001b[38;5;241m=\u001b[39m \u001b[43mextract_text_from_pdf\u001b[49m\u001b[43m(\u001b[49m\u001b[43mpdf_path\u001b[49m\u001b[43m)\u001b[49m\n\u001b[0;32m      4\u001b[0m \u001b[38;5;66;03m#    matches = extract_pattern(citation_text)\u001b[39;00m\n\u001b[0;32m      5\u001b[0m     matches \u001b[38;5;241m=\u001b[39m citations\u001b[38;5;241m.\u001b[39mfind_all_citations (citation_text)\n",
      "Cell \u001b[1;32mIn[17], line 2\u001b[0m, in \u001b[0;36mextract_text_from_pdf\u001b[1;34m(pdf_path)\u001b[0m\n\u001b[0;32m      1\u001b[0m \u001b[38;5;28;01mdef\u001b[39;00m \u001b[38;5;21mextract_text_from_pdf\u001b[39m(pdf_path):\n\u001b[1;32m----> 2\u001b[0m  \u001b[38;5;28;01mwith\u001b[39;00m \u001b[43mpdfplumber\u001b[49m\u001b[38;5;241;43m.\u001b[39;49m\u001b[43mopen\u001b[49m\u001b[43m(\u001b[49m\u001b[43mpdf_path\u001b[49m\u001b[43m)\u001b[49m \u001b[38;5;28;01mas\u001b[39;00m pdf:\n\u001b[0;32m      3\u001b[0m      all_text \u001b[38;5;241m=\u001b[39m \u001b[38;5;124m\"\u001b[39m\u001b[38;5;124m\"\u001b[39m\n\u001b[0;32m      4\u001b[0m      \u001b[38;5;28;01mfor\u001b[39;00m page \u001b[38;5;129;01min\u001b[39;00m pdf\u001b[38;5;241m.\u001b[39mpages:\n",
      "File \u001b[1;32m~\\anaconda3\\envs\\referencebuster1\\lib\\site-packages\\pdfplumber\\pdf.py:85\u001b[0m, in \u001b[0;36mPDF.open\u001b[1;34m(cls, path_or_fp, pages, laparams, password, strict_metadata, repair, gs_path)\u001b[0m\n\u001b[0;32m     83\u001b[0m     path \u001b[38;5;241m=\u001b[39m \u001b[38;5;28;01mNone\u001b[39;00m\n\u001b[0;32m     84\u001b[0m \u001b[38;5;28;01melif\u001b[39;00m \u001b[38;5;28misinstance\u001b[39m(path_or_fp, (\u001b[38;5;28mstr\u001b[39m, pathlib\u001b[38;5;241m.\u001b[39mPath)):\n\u001b[1;32m---> 85\u001b[0m     stream \u001b[38;5;241m=\u001b[39m \u001b[38;5;28;43mopen\u001b[39;49m\u001b[43m(\u001b[49m\u001b[43mpath_or_fp\u001b[49m\u001b[43m,\u001b[49m\u001b[43m \u001b[49m\u001b[38;5;124;43m\"\u001b[39;49m\u001b[38;5;124;43mrb\u001b[39;49m\u001b[38;5;124;43m\"\u001b[39;49m\u001b[43m)\u001b[49m\n\u001b[0;32m     86\u001b[0m     stream_is_external \u001b[38;5;241m=\u001b[39m \u001b[38;5;28;01mFalse\u001b[39;00m\n\u001b[0;32m     87\u001b[0m     path \u001b[38;5;241m=\u001b[39m pathlib\u001b[38;5;241m.\u001b[39mPath(path_or_fp)\n",
      "\u001b[1;31mFileNotFoundError\u001b[0m: [Errno 2] No such file or directory: 'C:\\\\Users\\\\u0037034\\\\OneDrive - Teesside University\\\\CIS4006 Advanced Practice\\\\External Students\\\\test.pdf'"
     ]
    }
   ],
   "source": [
    " process_cite_functions(\"C:\\\\Users\\\\u0037034\\\\OneDrive - Teesside University\\\\CIS4006 Advanced Practice\\\\External Students\\\\test.pdf\")"
   ]
  },
  {
   "cell_type": "code",
   "execution_count": null,
   "id": "bd94cf33",
   "metadata": {},
   "outputs": [],
   "source": []
  }
 ],
 "metadata": {
  "kernelspec": {
   "display_name": "Python 3 (ipykernel)",
   "language": "python",
   "name": "python3"
  },
  "language_info": {
   "codemirror_mode": {
    "name": "ipython",
    "version": 3
   },
   "file_extension": ".py",
   "mimetype": "text/x-python",
   "name": "python",
   "nbconvert_exporter": "python",
   "pygments_lexer": "ipython3",
   "version": "3.10.13"
  }
 },
 "nbformat": 4,
 "nbformat_minor": 5
}
