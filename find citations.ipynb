{
 "cells": [
  {
   "cell_type": "code",
   "execution_count": 23,
   "id": "cc7048ed-7464-4c4b-88d9-470957c37332",
   "metadata": {},
   "outputs": [],
   "source": [
    "from refextract import extract_references_from_file\n",
    "import tkinter as tk\n",
    "from tkinter import filedialog\n",
    "from IPython.display import HTML, display\n",
    "import re\n",
    "import fitz  # PyMuPDF\n",
    "import numpy as np\n",
    "import nltk\n"
   ]
  },
  {
   "cell_type": "code",
   "execution_count": 24,
   "id": "50a38996-bb30-47a4-a360-8e7e8f9a9e67",
   "metadata": {},
   "outputs": [],
   "source": [
    "def extract_text_from_pdf(pdf_path):\n",
    "    try:\n",
    "        cite_text =''\n",
    "        pdf_document = fitz.open(pdf_path)\n",
    "\n",
    "        for page_num in range(pdf_document.page_count):\n",
    "            page = pdf_document.load_page(page_num)\n",
    "            cite_text += page.get_text(\"text\")#concatinate text from each page\n",
    "        pdf_document.close()\n",
    "        return cite_text\n",
    "    except fitz.FileNotFoundError:\n",
    "        return \"File not found or inaccessible\""
   ]
  },
  {
   "cell_type": "code",
   "execution_count": null,
   "id": "fe61b646-7959-482a-9ddf-0e0ee7669b2e",
   "metadata": {},
   "outputs": [],
   "source": []
  },
  {
   "cell_type": "code",
   "execution_count": 27,
   "id": "bca77c9f-4823-4234-92ab-c7d76e23246e",
   "metadata": {},
   "outputs": [
    {
     "ename": "SyntaxError",
     "evalue": "(unicode error) 'unicodeescape' codec can't decode bytes in position 69-70: truncated \\uXXXX escape (1355769354.py, line 1)",
     "output_type": "error",
     "traceback": [
      "\u001b[1;36m  Cell \u001b[1;32mIn[27], line 1\u001b[1;36m\u001b[0m\n\u001b[1;33m    citation_text =extract_text_from_pdf(\"C:\\\\Users\\\\RAHUL BARLA\\\\Downloads\\\\REFBUST_Review (2)\\\\REFBUST_Review\\uploads\\\\report.pdf\")\u001b[0m\n\u001b[1;37m                                                                                                                                    ^\u001b[0m\n\u001b[1;31mSyntaxError\u001b[0m\u001b[1;31m:\u001b[0m (unicode error) 'unicodeescape' codec can't decode bytes in position 69-70: truncated \\uXXXX escape\n"
     ]
    }
   ],
   "source": [
    "citation_text =extract_text_from_pdf(\"C:\\\\Users\\\\RAHUL BARLA\\\\Downloads\\\\REFBUST_Review (2)\\\\REFBUST_Review\\uploads\\\\report.pdf\")"
   ]
  },
  {
   "cell_type": "code",
   "execution_count": 26,
   "id": "40fb656f-d5fa-4b85-9c0c-2b436682f642",
   "metadata": {},
   "outputs": [
    {
     "name": "stdout",
     "output_type": "stream",
     "text": [
      "File not found or inaccessible\n"
     ]
    }
   ],
   "source": [
    "print(citation_text)"
   ]
  },
  {
   "cell_type": "code",
   "execution_count": 4,
   "id": "6b0e3cb6-733c-42f9-b55d-cf9b567c862c",
   "metadata": {},
   "outputs": [],
   "source": [
    "def extract_citations(text):\n",
    "    pattern_citations = [\n",
    "        r\"([A-Z][a-z]+ et al\\., \\d{4})\",\n",
    "        r\"([A-Z][a-z]+ et al\\ \\d{4})\",\n",
    "        r\"([A-Z][a-z]+ et al\\.\\s?\\(\\d{4}\\))\", #removed correct et al\n",
    "        r\"([A-Z][a-z]+, [A-Z]\\., ?et al\\. \\(\\d{4}\\))\",\n",
    "        r\"([A-Z][a-z]+, [A-Z]\\., ?et. al\\. \\(\\d{4}\\))\",\n",
    "        r\"([A-Z][a-z]+, [A-Z]\\., ?et. al\\ \\(\\d{4}\\))\",\n",
    "        r\"([A-Z][a-z]+ et. al\\., \\d{4})\",\n",
    "        r\"([A-Z][a-z]\\.,+ et al\\., \\d{4})\",\n",
    "        r\"([A-Z][a-z]+ et. al\\, \\d{4})\",\n",
    "        r\"([A-Z][a-z]+ et. al\\ \\d{4})\",\n",
    "        r\"([A-Z][a-z]+ et al\\ \\d{4})\"\n",
    "        ]\n",
    "\n",
    "    citations = []\n",
    "\n",
    "    for pattern in pattern_citations:\n",
    "        matches = re.findall(pattern, text)\n",
    "        citations.extend(matches)\n",
    "\n",
    "    return citations"
   ]
  },
  {
   "cell_type": "code",
   "execution_count": 5,
   "id": "5f3a26f6-1e0e-4220-bc1f-ddcaba67bbb3",
   "metadata": {},
   "outputs": [
    {
     "data": {
      "text/plain": [
       "[]"
      ]
     },
     "execution_count": 5,
     "metadata": {},
     "output_type": "execute_result"
    }
   ],
   "source": [
    "extract_citations(citation_text)"
   ]
  },
  {
   "cell_type": "code",
   "execution_count": 7,
   "id": "e4e37417-248d-4d44-8e76-419c15535a01",
   "metadata": {},
   "outputs": [],
   "source": [
    "def extract_in_text_citations(citation_text):\n",
    "    # Define a regular expression pattern for in-text citations\n",
    "    citation_pattern = global_pattern\n",
    "    #citation_pattern = r\"\\b(?!(?:Although|In|Furthermore|Additionally|Also)\\b)(?!(?:Jan(?:uary)?|Feb(?:ruary)?|Mar(?:ch)?|Apr(?:il)?|May|Jun(?:e)?|Jul(?:y)?|Aug(?:ust)?|Sep(?:tember)?|Oct(?:ober)?|Nov(?:ember)?|Dec(?:ember)?)\\b)(?:[A-Z][A-Za-z'`-]+)(?:,? (?:(?:and |& )?(?:[Z-Z][A-Za-z'`-]+)|(?:et al.?)))*(?:,? *(?:19|20)[0-9][0-9](?:, p\\.? [0-9]+)?| *\\((?:19|20)[0-9][0-9](?:, p\\.? [0-9]+)?\\))\"\n",
    "\n",
    "    citations = re.findall(citation_pattern, citation_text)\n",
    "    return citations\n",
    "\n",
    "def extract_pattern(citation_text):\n",
    "    search_pattern = global_pattern\n",
    "    #search_pattern = r\"\\b(?!(?:Although|In|Furthermore|Additionally|Also)\\b)(?!(?:Jan(?:uary)?|Feb(?:ruary)?|Mar(?:ch)?|Apr(?:il)?|May|Jun(?:e)?|Jul(?:y)?|Aug(?:ust)?|Sep(?:tember)?|Oct(?:ober)?|Nov(?:ember)?|Dec(?:ember)?)\\b)(?:[A-Z][A-Za-z'`-]+)(?:,? (?:(?:and |& )?(?:[Z-Z][A-Za-z'`-]+)|(?:et al.?)))*(?:,? *(?:19|20)[0-9][0-9](?:, p\\.? [0-9]+)?| *\\((?:19|20)[0-9][0-9](?:, p\\.? [0-9]+)?\\))\"\n",
    "\n",
    "   \n",
    "    return re.findall(search_pattern, citation_text)\n"
   ]
  },
  {
   "cell_type": "code",
   "execution_count": 8,
   "id": "a6c0fc4b-21ea-4a5a-a053-6205b8683fee",
   "metadata": {},
   "outputs": [],
   "source": [
    "global_pattern = r\"\\b(?!(?:Although|In|Furthermore|Additionally|Also)\\b)(?!(?:Jan(?:uary)?|Feb(?:ruary)?|Mar(?:ch)?|Apr(?:il)?|May|Jun(?:e)?|Jul(?:y)?|Aug(?:ust)?|Sep(?:tember)?|Oct(?:ober)?|Nov(?:ember)?|Dec(?:ember)?)\\b)(?:[A-Z][A-Za-z'`-]+)(?:,? (?:(?:and |& )?(?:[Z-Z][A-Za-z'`-]+)|(?:et al.?)))*(?:,? *(?:19|20)[0-9][0-9](?:, p\\.? [0-9]+)?| *\\((?:19|20)[0-9][0-9](?:, p\\.? [0-9]+)?\\))\"\n"
   ]
  },
  {
   "cell_type": "code",
   "execution_count": 9,
   "id": "e8ffe2f8-99f6-4170-aed3-0f9a995b99ff",
   "metadata": {},
   "outputs": [
    {
     "data": {
      "text/plain": [
       "[]"
      ]
     },
     "execution_count": 9,
     "metadata": {},
     "output_type": "execute_result"
    }
   ],
   "source": [
    "extract_in_text_citations(citation_text)"
   ]
  },
  {
   "cell_type": "code",
   "execution_count": null,
   "id": "eb308c59-bbf0-4078-b1c1-09d93b13d60f",
   "metadata": {},
   "outputs": [],
   "source": []
  },
  {
   "cell_type": "code",
   "execution_count": 10,
   "id": "86e8dabf-87af-47fd-a23a-623f8a712cc8",
   "metadata": {},
   "outputs": [],
   "source": [
    "def extract_pattern(citation_text):\n",
    "    search_pattern = global_pattern\n",
    "    #search_pattern = r\"\\b(?!(?:Although|In|Furthermore|Additionally|Also)\\b)(?!(?:Jan(?:uary)?|Feb(?:ruary)?|Mar(?:ch)?|Apr(?:il)?|May|Jun(?:e)?|Jul(?:y)?|Aug(?:ust)?|Sep(?:tember)?|Oct(?:ober)?|Nov(?:ember)?|Dec(?:ember)?)\\b)(?:[A-Z][A-Za-z'`-]+)(?:,? (?:(?:and |& )?(?:[Z-Z][A-Za-z'`-]+)|(?:et al.?)))*(?:,? *(?:19|20)[0-9][0-9](?:, p\\.? [0-9]+)?| *\\((?:19|20)[0-9][0-9](?:, p\\.? [0-9]+)?\\))\"\n",
    "\n",
    "   \n",
    "    return re.findall(search_pattern, citation_text)\n"
   ]
  },
  {
   "cell_type": "code",
   "execution_count": 11,
   "id": "a7db7c06-2938-4b04-be88-81f6ba553fc9",
   "metadata": {},
   "outputs": [
    {
     "data": {
      "text/plain": [
       "[]"
      ]
     },
     "execution_count": 11,
     "metadata": {},
     "output_type": "execute_result"
    }
   ],
   "source": [
    "extract_pattern(citation_text)"
   ]
  },
  {
   "cell_type": "code",
   "execution_count": 12,
   "id": "6ee3982e-937d-4c02-b44a-0f25e70a3429",
   "metadata": {},
   "outputs": [
    {
     "name": "stderr",
     "output_type": "stream",
     "text": [
      "[nltk_data] Downloading package punkt to C:\\Users\\RAHUL\n",
      "[nltk_data]     BARLA\\AppData\\Roaming\\nltk_data...\n",
      "[nltk_data]   Package punkt is already up-to-date!\n"
     ]
    },
    {
     "data": {
      "text/plain": [
       "True"
      ]
     },
     "execution_count": 12,
     "metadata": {},
     "output_type": "execute_result"
    }
   ],
   "source": [
    "import nltk\n",
    "nltk.download('punkt')"
   ]
  },
  {
   "cell_type": "code",
   "execution_count": 13,
   "id": "db5334e7-7c79-4cae-9961-c3e811c2af14",
   "metadata": {},
   "outputs": [],
   "source": [
    "def find_citations_at_start(citation_text):\n",
    "    citation_pattern = r\"^\\[[^\\[\\]]+\\]\"\n",
    "    #Tokenize the text into sentences\n",
    "    sentences = nltk.sent_tokenize(citation_text)\n",
    "    citations_at_start = []\n",
    "    # Compile the regular expression pattern\n",
    "    pattern = re.compile(citation_pattern)\n",
    "\n",
    "    # Iterate through each sentence and check for citations at the start\n",
    "    for sentence in sentences:\n",
    "        print(sentence)\n",
    "        # Check if the sentence matches the citation pattern\n",
    "        match = pattern.match(sentence)\n",
    "        if match:\n",
    "            citations_at_start.append(match.group())  # Extract the entire citation pattern\n",
    "\n",
    "    return citations_at_start"
   ]
  },
  {
   "cell_type": "code",
   "execution_count": 14,
   "id": "1dc764f3-7aa6-4a2e-affd-72000382279f",
   "metadata": {},
   "outputs": [
    {
     "name": "stdout",
     "output_type": "stream",
     "text": [
      "File not found or inaccessible\n"
     ]
    },
    {
     "data": {
      "text/plain": [
       "[]"
      ]
     },
     "execution_count": 14,
     "metadata": {},
     "output_type": "execute_result"
    }
   ],
   "source": [
    "find_citations_at_start(citation_text)"
   ]
  },
  {
   "cell_type": "code",
   "execution_count": 15,
   "id": "eabfe10c-cd21-4a8d-a4f1-c0931c2a17c0",
   "metadata": {},
   "outputs": [
    {
     "name": "stdout",
     "output_type": "stream",
     "text": [
      "Found Harvard-style citations: ['(Johnson, 2018)']\n"
     ]
    }
   ],
   "source": [
    "import re\n",
    "\n",
    "def find_harvard_citations_one_author(text):\n",
    "    pattern = r'\\(\\w+\\s?,\\s?\\d{4}\\)'  # Regular expression pattern for Harvard-style citations like (Author, Year)\n",
    "    citations = re.findall(pattern, text)\n",
    "    return citations\n",
    "\n",
    "# Example text\n",
    "paper_text = \"According to Smith, (2020) this was a significant finding. Previous research (Johnson, 2018) also supported these results.\"\n",
    "\n",
    "# Finding Harvard-style citations in the example text\n",
    "found_citations1 = find_harvard_citations_one_author(paper_text)\n",
    "\n",
    "# Displaying the found citations\n",
    "print(\"Found Harvard-style citations:\", found_citations1)\n"
   ]
  },
  {
   "cell_type": "code",
   "execution_count": 16,
   "id": "a68a6344-a73b-48b2-b1f0-e506afb7883e",
   "metadata": {},
   "outputs": [
    {
     "name": "stdout",
     "output_type": "stream",
     "text": [
      "Found Harvard-style citations with two authors: ['(Brown & White, 2018)']\n"
     ]
    }
   ],
   "source": [
    "def find_harvard_citations_two_authors(text):\n",
    "    pattern = r'\\(\\w+\\s?&\\s?\\w+,\\s?\\d{4}\\)'  # Regular expression pattern for Harvard-style citations with two authors like (Author1 & Author2, Year)\n",
    "    citations = re.findall(pattern, text)\n",
    "    return citations\n",
    "\n",
    "# Example text\n",
    "paper_text = \"According to Smith & Johnson (2020) this was a significant finding. Previous research (Brown & White, 2018) also supported these results.\"\n",
    "\n",
    "# Finding Harvard-style citations with two authors in the example text \n",
    "found_citations2 = find_harvard_citations_two_authors(paper_text)\n",
    "\n",
    "# Displaying the found citations\n",
    "print(\"Found Harvard-style citations with two authors:\", found_citations2)\n"
   ]
  },
  {
   "cell_type": "code",
   "execution_count": 17,
   "id": "6ef74a0f-2462-4562-b7f1-091d531f7fc1",
   "metadata": {},
   "outputs": [],
   "source": [
    "foud_citationsall = found_citations1 + found_citations2"
   ]
  },
  {
   "cell_type": "code",
   "execution_count": 18,
   "id": "5c5c4b45-5603-4c30-a161-e7eb7ec742d2",
   "metadata": {},
   "outputs": [
    {
     "name": "stdout",
     "output_type": "stream",
     "text": [
      "['(Johnson, 2018)', '(Brown & White, 2018)']\n"
     ]
    }
   ],
   "source": [
    "print (foud_citationsall)"
   ]
  },
  {
   "cell_type": "code",
   "execution_count": 19,
   "id": "839e0fae-096b-4255-bbc1-98f363c77d76",
   "metadata": {},
   "outputs": [
    {
     "name": "stdout",
     "output_type": "stream",
     "text": [
      "Found Harvard-style citations with three authors: []\n"
     ]
    }
   ],
   "source": [
    "def find_harvard_citations_three_authors(text):\n",
    "    pattern = r'\\(\\w+\\s?,\\s?\\w+\\s?&\\s?\\w+,\\s?\\d{4}\\)'  # Regular expression pattern for Harvard-style citations with three authors like (Author1, Author2 & Author3, Year)\n",
    "    citations = re.findall(pattern, text)\n",
    "    return citations\n",
    "\n",
    "# Example text\n",
    "paper_text = \"According to Smith, Johnson & Williams (2020) this was a significant finding. Previous research (Brown, White & Black, 2018) also supported these results.\"\n",
    "\n",
    "# Finding Harvard-style citations with three authors in the example text\n",
    "found_citations = find_harvard_citations_three_authors(citation_text)\n",
    "\n",
    "# Displaying the found citations\n",
    "print(\"Found Harvard-style citations with three authors:\", found_citations)\n"
   ]
  },
  {
   "cell_type": "code",
   "execution_count": 20,
   "id": "87be0d0c-7c5b-4fc5-be0c-7aac0ead3fd5",
   "metadata": {},
   "outputs": [
    {
     "name": "stdout",
     "output_type": "stream",
     "text": [
      "Found Harvard-style citations with 'et al.': []\n"
     ]
    }
   ],
   "source": [
    "import re\n",
    "\n",
    "def find_harvard_citations_et_al(text):\n",
    "    pattern = r'\\(\\w+\\s?(?:,?\\s?\\w+)?(?:,?\\s?\\w+)?\\s?et al.,\\s?\\d{4}\\)'  # Regular expression pattern for Harvard-style citations with \"et al.\" like (Author1 et al., Year)\n",
    "    citations = re.findall(pattern, text)\n",
    "    return citations\n",
    "\n",
    "# Example text\n",
    "paper_text = \"According to Smith et al. (2020) this was a significant finding. Previous research (Brown, White, Black et al., 2018) also supported these results.\"\n",
    "\n",
    "# Finding Harvard-style citations with \"et al.\" in the example text\n",
    "found_citations = find_harvard_citations_et_al(citation_text)\n",
    "\n",
    "# Displaying the found citations\n",
    "print(\"Found Harvard-style citations with 'et al.':\", found_citations)\n"
   ]
  },
  {
   "cell_type": "code",
   "execution_count": 21,
   "id": "51644a86-0144-477b-8cf0-0281aa54806b",
   "metadata": {},
   "outputs": [
    {
     "name": "stdout",
     "output_type": "stream",
     "text": [
      "Found citations in the 'Author (Year)' format: ['Smith (2020)', 'Johnson (2018)']\n"
     ]
    }
   ],
   "source": [
    "\n",
    "def find_author_year_citations(text):\n",
    "    pattern = r'\\b\\w+\\s?\\(\\d{4}\\)'  # Regular expression pattern for citations in the format \"Author (Year)\"\n",
    "    citations = re.findall(pattern, text)\n",
    "    return citations\n",
    "\n",
    "# Example text containing citations in the \"Author (Year)\" format \n",
    "paper_text = \"According to Smith (2020), this was a significant finding. Another study mentioned Johnson (2018) as a reference for their work.\"\n",
    "\n",
    "# Finding citations in the \"Author (Year)\" format within the example text \n",
    "found_citations = find_author_year_citations(paper_text)\n",
    "\n",
    "# Displaying the found citations\n",
    "print(\"Found citations in the 'Author (Year)' format:\", found_citations) \n",
    "\n"
   ]
  },
  {
   "cell_type": "code",
   "execution_count": 22,
   "id": "c7186add-a5c1-45be-b5a8-70b1b38e8073",
   "metadata": {},
   "outputs": [
    {
     "name": "stdout",
     "output_type": "stream",
     "text": [
      "Found citations in the 'Author & Author (Year)' format: ['Smith & Johnson (2020)', 'Brown & White (2018)']\n"
     ]
    }
   ],
   "source": [
    "import re\n",
    "\n",
    "def find_author_and_author_year_citations(text):\n",
    "    pattern = r'\\b\\w+\\s?&\\s?\\w+\\s?\\(\\d{4}\\)'  # Regular expression pattern for citations in the format \"Author & Author (Year)\"\n",
    "    citations = re.findall(pattern, text)\n",
    "    return citations\n",
    "\n",
    "# Example text containing citations in the \"Author & Author (Year)\" format \n",
    "paper_text = \"According to Smith & Johnson (2020), this was a significant finding. Another study mentioned Brown & White (2018) as a reference for their work.\"\n",
    "\n",
    "# Finding citations in the \"Author & Author (Year)\" format within the example text \n",
    "found_citations = find_author_and_author_year_citations(paper_text)\n",
    "\n",
    "# Displaying the found citations\n",
    "print(\"Found citations in the 'Author & Author (Year)' format:\", found_citations)\n"
   ]
  },
  {
   "cell_type": "code",
   "execution_count": 64,
   "id": "a57a502a-213c-41d0-a17c-ffdbf418c87e",
   "metadata": {},
   "outputs": [
    {
     "name": "stdout",
     "output_type": "stream",
     "text": [
      "Found citations in the 'Author, Author & Author (Year)' format: ['Smith, Johnson & Williams (2020)', 'Brown, White & Black (2018)']\n"
     ]
    }
   ],
   "source": [
    "import re\n",
    "\n",
    "def find_author_comma_author_and_author_year_citations(text):\n",
    "    pattern = r'\\b\\w+\\s?,\\s?\\w+\\s?&\\s?\\w+\\s?\\(\\d{4}\\)'  # Regular expression pattern for citations in the format \"Author, Author & Author (Year)\"\n",
    "    citations = re.findall(pattern, text)\n",
    "    return citations\n",
    "\n",
    "# Example text containing citations in the \"Author, Author & Author (Year)\" format\n",
    "paper_text = \"According to Smith, Johnson & Williams (2020), this was a significant finding. Another study mentioned Brown, White & Black (2018) as a reference for their work.\"\n",
    "\n",
    "# Finding citations in the \"Author, Author & Author (Year)\" format within the example text\n",
    "found_citations = find_author_comma_author_and_author_year_citations(paper_text)\n",
    "\n",
    "# Displaying the found citations\n",
    "print(\"Found citations in the 'Author, Author & Author (Year)' format:\", found_citations)\n"
   ]
  },
  {
   "cell_type": "code",
   "execution_count": 82,
   "id": "2b03e104-5884-4553-8875-b26ccf3e39bd",
   "metadata": {},
   "outputs": [
    {
     "name": "stdout",
     "output_type": "stream",
     "text": [
      "Found citations in the 'Author et al. (Year)' format: ['Smith et al. (2020)', 'Johnson et al. (2018)']\n"
     ]
    }
   ],
   "source": [
    "import re\n",
    "\n",
    "def find_author_et_al_year_citations(text):\n",
    "    pattern = r'\\b\\w+\\s?et\\s?al\\.\\s?\\(\\d{4}\\)'  # Regular expression pattern for citations in the format \"Author et al. (Year)\"\n",
    "    citations = re.findall(pattern, text)\n",
    "    return citations\n",
    "\n",
    "# Example text containing citations in the \"Author et al. (Year)\" format \n",
    "paper_text = \"According to Smith et al. (2020), this was a significant finding. Another study mentioned Johnson et al. (2018) as a reference for their work.\"\n",
    "\n",
    "# Finding citations in the \"Author et al. (Year)\" format within the example text \n",
    "found_citations = find_author_et_al_year_citations(paper_text)\n",
    "\n",
    "# Displaying the found citations\n",
    "print(\"Found citations in the 'Author et al. (Year)' format:\", found_citations)\n",
    "\n"
   ]
  },
  {
   "cell_type": "code",
   "execution_count": 86,
   "id": "5bb08ad3-6839-41f8-99f7-e56098afc932",
   "metadata": {},
   "outputs": [],
   "source": [
    "def find_all_citations (text):\n",
    "    citations = find_harvard_citations_one_author(paper_text)\n",
    "    citations = citations + find_harvard_citations_two_authors(text)\n",
    "    citations = citations + find_harvard_citations_three_authors(text)\n",
    "    citations = citations + find_harvard_citations_et_al(text)\n",
    "    citations = citations + find_author_year_citations(text)\n",
    "    citations = citations + find_author_and_author_year_citations(text)\n",
    "    citations = citations + find_author_comma_author_and_author_year_citations(text)\n",
    "    citations = citations + find_author_et_al_year_citations(text)\n",
    "    return citations\n",
    "    "
   ]
  },
  {
   "cell_type": "code",
   "execution_count": 5,
   "id": "0d240076-d817-4075-a815-8d80770f2e3a",
   "metadata": {},
   "outputs": [
    {
     "name": "stdout",
     "output_type": "stream",
     "text": [
      "['(Dubois, 2018)', '(Phillips, 2018)', '(Parker, 2021)', '(Anderson, 2019)', '(Green, 2018)', '(Williams & Evans, 2019)', '(Garcia & Martinez, 2020)', '(Lee & Smith, 2017)', '(White & Davis, 2019)', '(Morgan & Adams, 2020)', '(White & Davis, 2019)', '(Johnson & Brown, 2019)', '(Garcia & Martinez, 2020)', '(Robinson & Nelson, 2018)', '(Wright & Martinez, 2020)', '(Robinson & Adams, 2019)', '(Hall & Baker, 2018)', '(Lee & Martin, 2021)', '(Gray & Coleman, 2017)', '(Turner & Martinez, 2019)', '(Brown et al., 2021)', '(Brown et al., 2021)', 'Maddison (2021)', 'Anand (2021)', 'Roberts (2021)', 'Avery (2021)', 'Carter (2020)', 'Henry (2019)', 'Dylan (2017)', 'Andrew (2017)', 'Harris (2019)', 'Paul (2018)', 'Brooks (2017)']\n"
     ]
    }
   ],
   "source": [
    "import findcitations\n",
    "print (findcitations.find_all_citations (citation_text))"
   ]
  },
  {
   "cell_type": "code",
   "execution_count": null,
   "id": "2186ae25-c3b7-4bad-80a4-b5dd2db0469b",
   "metadata": {},
   "outputs": [],
   "source": []
  },
  {
   "cell_type": "code",
   "execution_count": null,
   "id": "9d898871-a84a-44e5-b104-d8d870b06629",
   "metadata": {},
   "outputs": [],
   "source": []
  }
 ],
 "metadata": {
  "kernelspec": {
   "display_name": "Python 3 (ipykernel)",
   "language": "python",
   "name": "python3"
  },
  "language_info": {
   "codemirror_mode": {
    "name": "ipython",
    "version": 3
   },
   "file_extension": ".py",
   "mimetype": "text/x-python",
   "name": "python",
   "nbconvert_exporter": "python",
   "pygments_lexer": "ipython3",
   "version": "3.11.0"
  }
 },
 "nbformat": 4,
 "nbformat_minor": 5
}
